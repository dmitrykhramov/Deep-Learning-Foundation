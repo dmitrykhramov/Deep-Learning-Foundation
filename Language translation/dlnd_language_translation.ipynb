{
 "cells": [
  {
   "cell_type": "markdown",
   "metadata": {
    "collapsed": true,
    "deletable": true,
    "editable": true
   },
   "source": [
    "# Language Translation\n",
    "In this project, you’re going to take a peek into the realm of neural network machine translation.  You’ll be training a sequence to sequence model on a dataset of English and French sentences that can translate new sentences from English to French.\n",
    "## Get the Data\n",
    "Since translating the whole language of English to French will take lots of time to train, we have provided you with a small portion of the English corpus."
   ]
  },
  {
   "cell_type": "code",
   "execution_count": 1,
   "metadata": {
    "collapsed": true,
    "deletable": true,
    "editable": true
   },
   "outputs": [],
   "source": [
    "\"\"\"\n",
    "DON'T MODIFY ANYTHING IN THIS CELL\n",
    "\"\"\"\n",
    "import helper\n",
    "import problem_unittests as tests\n",
    "\n",
    "source_path = 'data/small_vocab_en'\n",
    "target_path = 'data/small_vocab_fr'\n",
    "source_text = helper.load_data(source_path)\n",
    "target_text = helper.load_data(target_path)"
   ]
  },
  {
   "cell_type": "markdown",
   "metadata": {
    "deletable": true,
    "editable": true
   },
   "source": [
    "## Explore the Data\n",
    "Play around with view_sentence_range to view different parts of the data."
   ]
  },
  {
   "cell_type": "code",
   "execution_count": 3,
   "metadata": {
    "collapsed": false,
    "deletable": true,
    "editable": true
   },
   "outputs": [
    {
     "name": "stdout",
     "output_type": "stream",
     "text": [
      "Dataset Stats\n",
      "Roughly the number of unique words: 227\n",
      "Number of sentences: 137861\n",
      "Average number of words in a sentence: 13.225277634719028\n",
      "\n",
      "English sentences 10 to 20:\n",
      "the lime is her least liked fruit , but the banana is my least liked .\n",
      "he saw a old yellow truck .\n",
      "india is rainy during june , and it is sometimes warm in november .\n",
      "that cat was my most loved animal .\n",
      "he dislikes grapefruit , limes , and lemons .\n",
      "her least liked fruit is the lemon , but his least liked is the grapefruit .\n",
      "california is never cold during february , but it is sometimes freezing in june .\n",
      "china is usually pleasant during autumn , and it is usually quiet in october .\n",
      "paris is never freezing during november , but it is wonderful in october .\n",
      "the united states is never rainy during january , but it is sometimes mild in october .\n",
      "\n",
      "French sentences 10 to 20:\n",
      "la chaux est son moins aimé des fruits , mais la banane est mon moins aimé.\n",
      "il a vu un vieux camion jaune .\n",
      "inde est pluvieux en juin , et il est parfois chaud en novembre .\n",
      "ce chat était mon animal le plus aimé .\n",
      "il n'aime pamplemousse , citrons verts et les citrons .\n",
      "son fruit est moins aimé le citron , mais son moins aimé est le pamplemousse .\n",
      "californie ne fait jamais froid en février , mais il est parfois le gel en juin .\n",
      "chine est généralement agréable en automne , et il est généralement calme en octobre .\n",
      "paris est jamais le gel en novembre , mais il est merveilleux en octobre .\n",
      "les états-unis est jamais pluvieux en janvier , mais il est parfois doux en octobre .\n"
     ]
    }
   ],
   "source": [
    "view_sentence_range = (10, 20)\n",
    "\n",
    "\"\"\"\n",
    "DON'T MODIFY ANYTHING IN THIS CELL\n",
    "\"\"\"\n",
    "import numpy as np\n",
    "\n",
    "print('Dataset Stats')\n",
    "print('Roughly the number of unique words: {}'.format(len({word: None for word in source_text.split()})))\n",
    "\n",
    "sentences = source_text.split('\\n')\n",
    "word_counts = [len(sentence.split()) for sentence in sentences]\n",
    "print('Number of sentences: {}'.format(len(sentences)))\n",
    "print('Average number of words in a sentence: {}'.format(np.average(word_counts)))\n",
    "\n",
    "print()\n",
    "print('English sentences {} to {}:'.format(*view_sentence_range))\n",
    "print('\\n'.join(source_text.split('\\n')[view_sentence_range[0]:view_sentence_range[1]]))\n",
    "print()\n",
    "print('French sentences {} to {}:'.format(*view_sentence_range))\n",
    "print('\\n'.join(target_text.split('\\n')[view_sentence_range[0]:view_sentence_range[1]]))"
   ]
  },
  {
   "cell_type": "markdown",
   "metadata": {
    "deletable": true,
    "editable": true
   },
   "source": [
    "## Implement Preprocessing Function\n",
    "### Text to Word Ids\n",
    "As you did with other RNNs, you must turn the text into a number so the computer can understand it. In the function `text_to_ids()`, you'll turn `source_text` and `target_text` from words to ids.  However, you need to add the `<EOS>` word id at the end of `target_text`.  This will help the neural network predict when the sentence should end.\n",
    "\n",
    "You can get the `<EOS>` word id by doing:\n",
    "```python\n",
    "target_vocab_to_int['<EOS>']\n",
    "```\n",
    "You can get other word ids using `source_vocab_to_int` and `target_vocab_to_int`."
   ]
  },
  {
   "cell_type": "code",
   "execution_count": 5,
   "metadata": {
    "collapsed": false,
    "deletable": true,
    "editable": true
   },
   "outputs": [
    {
     "name": "stdout",
     "output_type": "stream",
     "text": [
      "Tests Passed\n"
     ]
    }
   ],
   "source": [
    "def text_to_ids(source_text, target_text, source_vocab_to_int, target_vocab_to_int):\n",
    "    \"\"\"\n",
    "    Convert source and target text to proper word ids\n",
    "    :param source_text: String that contains all the source text.\n",
    "    :param target_text: String that contains all the target text.\n",
    "    :param source_vocab_to_int: Dictionary to go from the source words to an id\n",
    "    :param target_vocab_to_int: Dictionary to go from the target words to an id\n",
    "    :return: A tuple of lists (source_id_text, target_id_text)\n",
    "    \"\"\"\n",
    "    # TODO: Implement Function\n",
    "    source_text_ids = [[source_vocab_to_int.get(word, source_vocab_to_int['<UNK>']) for word in line.split()] for line in source_text.split('\\n')]\n",
    "    target_text_ids = [[target_vocab_to_int.get(word, target_vocab_to_int['<UNK>']) for word in line.split()] + [target_vocab_to_int['<EOS>']] for line in target_text.split('\\n')]\n",
    "    \n",
    "    return source_text_ids, target_text_ids\n",
    "\n",
    "\"\"\"\n",
    "DON'T MODIFY ANYTHING IN THIS CELL THAT IS BELOW THIS LINE\n",
    "\"\"\"\n",
    "tests.test_text_to_ids(text_to_ids)"
   ]
  },
  {
   "cell_type": "markdown",
   "metadata": {
    "deletable": true,
    "editable": true
   },
   "source": [
    "### Preprocess all the data and save it\n",
    "Running the code cell below will preprocess all the data and save it to file."
   ]
  },
  {
   "cell_type": "code",
   "execution_count": 6,
   "metadata": {
    "collapsed": true,
    "deletable": true,
    "editable": true
   },
   "outputs": [],
   "source": [
    "\"\"\"\n",
    "DON'T MODIFY ANYTHING IN THIS CELL\n",
    "\"\"\"\n",
    "helper.preprocess_and_save_data(source_path, target_path, text_to_ids)"
   ]
  },
  {
   "cell_type": "markdown",
   "metadata": {
    "deletable": true,
    "editable": true
   },
   "source": [
    "# Check Point\n",
    "This is your first checkpoint. If you ever decide to come back to this notebook or have to restart the notebook, you can start from here. The preprocessed data has been saved to disk."
   ]
  },
  {
   "cell_type": "code",
   "execution_count": 1,
   "metadata": {
    "collapsed": true,
    "deletable": true,
    "editable": true
   },
   "outputs": [],
   "source": [
    "\"\"\"\n",
    "DON'T MODIFY ANYTHING IN THIS CELL\n",
    "\"\"\"\n",
    "import numpy as np\n",
    "import helper\n",
    "import problem_unittests as tests\n",
    "\n",
    "(source_int_text, target_int_text), (source_vocab_to_int, target_vocab_to_int), _ = helper.load_preprocess()"
   ]
  },
  {
   "cell_type": "markdown",
   "metadata": {
    "deletable": true,
    "editable": true
   },
   "source": [
    "### Check the Version of TensorFlow and Access to GPU\n",
    "This will check to make sure you have the correct version of TensorFlow and access to a GPU"
   ]
  },
  {
   "cell_type": "code",
   "execution_count": 2,
   "metadata": {
    "collapsed": false,
    "deletable": true,
    "editable": true
   },
   "outputs": [
    {
     "name": "stdout",
     "output_type": "stream",
     "text": [
      "TensorFlow Version: 1.1.0\n",
      "Default GPU Device: /gpu:0\n"
     ]
    }
   ],
   "source": [
    "\"\"\"\n",
    "DON'T MODIFY ANYTHING IN THIS CELL\n",
    "\"\"\"\n",
    "from distutils.version import LooseVersion\n",
    "import warnings\n",
    "import tensorflow as tf\n",
    "from tensorflow.python.layers.core import Dense\n",
    "\n",
    "# Check TensorFlow Version\n",
    "assert LooseVersion(tf.__version__) >= LooseVersion('1.1'), 'Please use TensorFlow version 1.1 or newer'\n",
    "print('TensorFlow Version: {}'.format(tf.__version__))\n",
    "\n",
    "# Check for a GPU\n",
    "if not tf.test.gpu_device_name():\n",
    "    warnings.warn('No GPU found. Please use a GPU to train your neural network.')\n",
    "else:\n",
    "    print('Default GPU Device: {}'.format(tf.test.gpu_device_name()))"
   ]
  },
  {
   "cell_type": "markdown",
   "metadata": {
    "deletable": true,
    "editable": true
   },
   "source": [
    "## Build the Neural Network\n",
    "You'll build the components necessary to build a Sequence-to-Sequence model by implementing the following functions below:\n",
    "- `model_inputs`\n",
    "- `process_decoder_input`\n",
    "- `encoding_layer`\n",
    "- `decoding_layer_train`\n",
    "- `decoding_layer_infer`\n",
    "- `decoding_layer`\n",
    "- `seq2seq_model`\n",
    "\n",
    "### Input\n",
    "Implement the `model_inputs()` function to create TF Placeholders for the Neural Network. It should create the following placeholders:\n",
    "\n",
    "- Input text placeholder named \"input\" using the TF Placeholder name parameter with rank 2.\n",
    "- Targets placeholder with rank 2.\n",
    "- Learning rate placeholder with rank 0.\n",
    "- Keep probability placeholder named \"keep_prob\" using the TF Placeholder name parameter with rank 0.\n",
    "- Target sequence length placeholder named \"target_sequence_length\" with rank 1\n",
    "- Max target sequence length tensor named \"max_target_len\" getting its value from applying tf.reduce_max on the target_sequence_length placeholder. Rank 0.\n",
    "- Source sequence length placeholder named \"source_sequence_length\" with rank 1\n",
    "\n",
    "Return the placeholders in the following the tuple (input, targets, learning rate, keep probability, target sequence length, max target sequence length, source sequence length)"
   ]
  },
  {
   "cell_type": "code",
   "execution_count": 3,
   "metadata": {
    "collapsed": false,
    "deletable": true,
    "editable": true
   },
   "outputs": [
    {
     "name": "stdout",
     "output_type": "stream",
     "text": [
      "Tests Passed\n"
     ]
    }
   ],
   "source": [
    "def model_inputs():\n",
    "    \"\"\"\n",
    "    Create TF Placeholders for input, targets, learning rate, and lengths of source and target sequences.\n",
    "    :return: Tuple (input, targets, learning rate, keep probability, target sequence length,\n",
    "    max target sequence length, source sequence length)\n",
    "    \"\"\"\n",
    "    # TODO: Implement Function\n",
    "    inputs = tf.placeholder(tf.int32, [None, None], name='input')\n",
    "    targets = tf.placeholder(tf.int32, [None, None], name='targets')\n",
    "    lr = tf.placeholder(tf.float32, name='learning_rate')\n",
    "    keep_prob = tf.placeholder(tf.float32, name='keep_prob')\n",
    "    target_sequence_len = tf.placeholder(tf.int32, (None,), name='target_sequence_length')\n",
    "    max_target_sequence_length = tf.reduce_max(target_sequence_len, name='max_target_len')\n",
    "    source_seq_len = tf.placeholder(tf.int32, (None,), name='source_sequence_length')\n",
    "    return inputs, targets, lr, keep_prob, target_sequence_len, max_target_sequence_length, source_seq_len\n",
    "\n",
    "\n",
    "\"\"\"\n",
    "DON'T MODIFY ANYTHING IN THIS CELL THAT IS BELOW THIS LINE\n",
    "\"\"\"\n",
    "tests.test_model_inputs(model_inputs)"
   ]
  },
  {
   "cell_type": "markdown",
   "metadata": {
    "deletable": true,
    "editable": true
   },
   "source": [
    "### Process Decoder Input\n",
    "Implement `process_decoder_input` by removing the last word id from each batch in `target_data` and concat the GO ID to the begining of each batch."
   ]
  },
  {
   "cell_type": "code",
   "execution_count": 4,
   "metadata": {
    "collapsed": false,
    "deletable": true,
    "editable": true
   },
   "outputs": [
    {
     "name": "stdout",
     "output_type": "stream",
     "text": [
      "Tests Passed\n"
     ]
    }
   ],
   "source": [
    "def process_decoder_input(target_data, target_vocab_to_int, batch_size):\n",
    "    \"\"\"\n",
    "    Preprocess target data for encoding\n",
    "    :param target_data: Target Placehoder\n",
    "    :param target_vocab_to_int: Dictionary to go from the target words to an id\n",
    "    :param batch_size: Batch Size\n",
    "    :return: Preprocessed target data\n",
    "    \"\"\"\n",
    "    # TODO: Implement Function\n",
    "    ending = tf.strided_slice(target_data, [0, 0], [batch_size, -1], [1, 1])\n",
    "    dec_input = tf.concat([tf.fill([batch_size, 1], target_vocab_to_int['<GO>']), ending], 1)\n",
    "    return dec_input\n",
    "\n",
    "\"\"\"\n",
    "DON'T MODIFY ANYTHING IN THIS CELL THAT IS BELOW THIS LINE\n",
    "\"\"\"\n",
    "tests.test_process_encoding_input(process_decoder_input)"
   ]
  },
  {
   "cell_type": "markdown",
   "metadata": {
    "deletable": true,
    "editable": true
   },
   "source": [
    "### Encoding\n",
    "Implement `encoding_layer()` to create a Encoder RNN layer:\n",
    " * Embed the encoder input using [`tf.contrib.layers.embed_sequence`](https://www.tensorflow.org/api_docs/python/tf/contrib/layers/embed_sequence)\n",
    " * Construct a [stacked](https://github.com/tensorflow/tensorflow/blob/6947f65a374ebf29e74bb71e36fd82760056d82c/tensorflow/docs_src/tutorials/recurrent.md#stacking-multiple-lstms) [`tf.contrib.rnn.LSTMCell`](https://www.tensorflow.org/api_docs/python/tf/contrib/rnn/LSTMCell) wrapped in a [`tf.contrib.rnn.DropoutWrapper`](https://www.tensorflow.org/api_docs/python/tf/contrib/rnn/DropoutWrapper)\n",
    " * Pass cell and embedded input to [`tf.nn.dynamic_rnn()`](https://www.tensorflow.org/api_docs/python/tf/nn/dynamic_rnn)"
   ]
  },
  {
   "cell_type": "code",
   "execution_count": 5,
   "metadata": {
    "collapsed": false,
    "deletable": true,
    "editable": true,
    "scrolled": false
   },
   "outputs": [
    {
     "name": "stdout",
     "output_type": "stream",
     "text": [
      "Tests Passed\n"
     ]
    }
   ],
   "source": [
    "from imp import reload\n",
    "reload(tests)\n",
    "\n",
    "def encoding_layer(rnn_inputs, rnn_size, num_layers, keep_prob, \n",
    "                   source_sequence_length, source_vocab_size, \n",
    "                   encoding_embedding_size):\n",
    "    \"\"\"\n",
    "    Create encoding layer\n",
    "    :param rnn_inputs: Inputs for the RNN\n",
    "    :param rnn_size: RNN Size\n",
    "    :param num_layers: Number of layers\n",
    "    :param keep_prob: Dropout keep probability\n",
    "    :param source_sequence_length: a list of the lengths of each sequence in the batch\n",
    "    :param source_vocab_size: vocabulary size of source data\n",
    "    :param encoding_embedding_size: embedding size of source data\n",
    "    :return: tuple (RNN output, RNN state)\n",
    "    \"\"\"\n",
    "    # TODO: Implement Function\n",
    "    enc_embed_input = tf.contrib.layers.embed_sequence(rnn_inputs, source_vocab_size, encoding_embedding_size)\n",
    "    \n",
    "    def make_cell(rnn_size):\n",
    "        enc_cell = tf.contrib.rnn.LSTMCell(rnn_size, initializer=tf.random_uniform_initializer(-0.1, 0.1, seed=2))\n",
    "        dropout = tf.contrib.rnn.DropoutWrapper(enc_cell, keep_prob)\n",
    "        return dropout\n",
    "    cell = tf.contrib.rnn.MultiRNNCell([make_cell(rnn_size) for _ in range(num_layers)])\n",
    "    enc_output, enc_state = tf.nn.dynamic_rnn(cell, enc_embed_input, sequence_length=source_sequence_length, dtype=tf.float32)\n",
    "    \n",
    "    return enc_output, enc_state\n",
    "\n",
    "\"\"\"\n",
    "DON'T MODIFY ANYTHING IN THIS CELL THAT IS BELOW THIS LINE\n",
    "\"\"\"\n",
    "tests.test_encoding_layer(encoding_layer)"
   ]
  },
  {
   "cell_type": "markdown",
   "metadata": {
    "deletable": true,
    "editable": true
   },
   "source": [
    "### Decoding - Training\n",
    "Create a training decoding layer:\n",
    "* Create a [`tf.contrib.seq2seq.TrainingHelper`](https://www.tensorflow.org/api_docs/python/tf/contrib/seq2seq/TrainingHelper) \n",
    "* Create a [`tf.contrib.seq2seq.BasicDecoder`](https://www.tensorflow.org/api_docs/python/tf/contrib/seq2seq/BasicDecoder)\n",
    "* Obtain the decoder outputs from [`tf.contrib.seq2seq.dynamic_decode`](https://www.tensorflow.org/api_docs/python/tf/contrib/seq2seq/dynamic_decode)"
   ]
  },
  {
   "cell_type": "code",
   "execution_count": 6,
   "metadata": {
    "collapsed": false,
    "deletable": true,
    "editable": true
   },
   "outputs": [
    {
     "name": "stdout",
     "output_type": "stream",
     "text": [
      "Tests Passed\n"
     ]
    }
   ],
   "source": [
    "\n",
    "def decoding_layer_train(encoder_state, dec_cell, dec_embed_input, \n",
    "                         target_sequence_length, max_summary_length, \n",
    "                         output_layer, keep_prob):\n",
    "    \"\"\"\n",
    "    Create a decoding layer for training\n",
    "    :param encoder_state: Encoder State\n",
    "    :param dec_cell: Decoder RNN Cell\n",
    "    :param dec_embed_input: Decoder embedded input\n",
    "    :param target_sequence_length: The lengths of each sequence in the target batch\n",
    "    :param max_summary_length: The length of the longest sequence in the batch\n",
    "    :param output_layer: Function to apply the output layer\n",
    "    :param keep_prob: Dropout keep probability\n",
    "    :return: BasicDecoderOutput containing training logits and sample_id\n",
    "    \"\"\"\n",
    "    # TODO: Implement Function\n",
    "    training_helper = tf.contrib.seq2seq.TrainingHelper(inputs=dec_embed_input, sequence_length=target_sequence_length, time_major=False)\n",
    "    training_decoder = tf.contrib.seq2seq.BasicDecoder(dec_cell, training_helper, encoder_state, output_layer)\n",
    "    training_decoder_output = tf.contrib.seq2seq.dynamic_decode(training_decoder, impute_finished=True, maximum_iterations=max_summary_length)[0]\n",
    "    \n",
    "    return training_decoder_output\n",
    "\n",
    "\n",
    "\n",
    "\"\"\"\n",
    "DON'T MODIFY ANYTHING IN THIS CELL THAT IS BELOW THIS LINE\n",
    "\"\"\"\n",
    "tests.test_decoding_layer_train(decoding_layer_train)"
   ]
  },
  {
   "cell_type": "markdown",
   "metadata": {
    "deletable": true,
    "editable": true
   },
   "source": [
    "### Decoding - Inference\n",
    "Create inference decoder:\n",
    "* Create a [`tf.contrib.seq2seq.GreedyEmbeddingHelper`](https://www.tensorflow.org/api_docs/python/tf/contrib/seq2seq/GreedyEmbeddingHelper)\n",
    "* Create a [`tf.contrib.seq2seq.BasicDecoder`](https://www.tensorflow.org/api_docs/python/tf/contrib/seq2seq/BasicDecoder)\n",
    "* Obtain the decoder outputs from [`tf.contrib.seq2seq.dynamic_decode`](https://www.tensorflow.org/api_docs/python/tf/contrib/seq2seq/dynamic_decode)"
   ]
  },
  {
   "cell_type": "code",
   "execution_count": 7,
   "metadata": {
    "collapsed": false,
    "deletable": true,
    "editable": true,
    "scrolled": true
   },
   "outputs": [
    {
     "name": "stdout",
     "output_type": "stream",
     "text": [
      "Tests Passed\n"
     ]
    }
   ],
   "source": [
    "def decoding_layer_infer(encoder_state, dec_cell, dec_embeddings, start_of_sequence_id,\n",
    "                         end_of_sequence_id, max_target_sequence_length,\n",
    "                         vocab_size, output_layer, batch_size, keep_prob):\n",
    "    \"\"\"\n",
    "    Create a decoding layer for inference\n",
    "    :param encoder_state: Encoder state\n",
    "    :param dec_cell: Decoder RNN Cell\n",
    "    :param dec_embeddings: Decoder embeddings\n",
    "    :param start_of_sequence_id: GO ID\n",
    "    :param end_of_sequence_id: EOS Id\n",
    "    :param max_target_sequence_length: Maximum length of target sequences\n",
    "    :param vocab_size: Size of decoder/target vocabulary\n",
    "    :param decoding_scope: TenorFlow Variable Scope for decoding\n",
    "    :param output_layer: Function to apply the output layer\n",
    "    :param batch_size: Batch size\n",
    "    :param keep_prob: Dropout keep probability\n",
    "    :return: BasicDecoderOutput containing inference logits and sample_id\n",
    "    \"\"\"\n",
    "    # TODO: Implement Function\n",
    "    start_tokens = tf.tile(tf.constant([start_of_sequence_id], dtype=tf.int32), [batch_size], name='start_tokens')\n",
    "    inference_helper = tf.contrib.seq2seq.GreedyEmbeddingHelper(dec_embeddings, start_tokens, end_of_sequence_id)\n",
    "    inference_decoder = tf.contrib.seq2seq.BasicDecoder(dec_cell, inference_helper, encoder_state, output_layer)\n",
    "    inference_decoder_output = tf.contrib.seq2seq.dynamic_decode(inference_decoder, impute_finished=True, maximum_iterations=max_target_sequence_length)[0]\n",
    "    return inference_decoder_output\n",
    "\n",
    "\n",
    "\n",
    "\"\"\"\n",
    "DON'T MODIFY ANYTHING IN THIS CELL THAT IS BELOW THIS LINE\n",
    "\"\"\"\n",
    "tests.test_decoding_layer_infer(decoding_layer_infer)"
   ]
  },
  {
   "cell_type": "markdown",
   "metadata": {
    "deletable": true,
    "editable": true
   },
   "source": [
    "### Build the Decoding Layer\n",
    "Implement `decoding_layer()` to create a Decoder RNN layer.\n",
    "\n",
    "* Embed the target sequences\n",
    "* Construct the decoder LSTM cell (just like you constructed the encoder cell above)\n",
    "* Create an output layer to map the outputs of the decoder to the elements of our vocabulary\n",
    "* Use the your `decoding_layer_train(encoder_state, dec_cell, dec_embed_input, target_sequence_length, max_target_sequence_length, output_layer, keep_prob)` function to get the training logits.\n",
    "* Use your `decoding_layer_infer(encoder_state, dec_cell, dec_embeddings, start_of_sequence_id, end_of_sequence_id, max_target_sequence_length, vocab_size, output_layer, batch_size, keep_prob)` function to get the inference logits.\n",
    "\n",
    "Note: You'll need to use [tf.variable_scope](https://www.tensorflow.org/api_docs/python/tf/variable_scope) to share variables between training and inference."
   ]
  },
  {
   "cell_type": "code",
   "execution_count": 8,
   "metadata": {
    "collapsed": false,
    "deletable": true,
    "editable": true
   },
   "outputs": [
    {
     "name": "stdout",
     "output_type": "stream",
     "text": [
      "Tests Passed\n"
     ]
    }
   ],
   "source": [
    "def decoding_layer(dec_input, encoder_state,\n",
    "                   target_sequence_length, max_target_sequence_length,\n",
    "                   rnn_size,\n",
    "                   num_layers, target_vocab_to_int, target_vocab_size,\n",
    "                   batch_size, keep_prob, decoding_embedding_size):\n",
    "    \"\"\"\n",
    "    Create decoding layer\n",
    "    :param dec_input: Decoder input\n",
    "    :param encoder_state: Encoder state\n",
    "    :param target_sequence_length: The lengths of each sequence in the target batch\n",
    "    :param max_target_sequence_length: Maximum length of target sequences\n",
    "    :param rnn_size: RNN Size\n",
    "    :param num_layers: Number of layers\n",
    "    :param target_vocab_to_int: Dictionary to go from the target words to an id\n",
    "    :param target_vocab_size: Size of target vocabulary\n",
    "    :param batch_size: The size of the batch\n",
    "    :param keep_prob: Dropout keep probability\n",
    "    :param decoding_embedding_size: Decoding embedding size\n",
    "    :return: Tuple of (Training BasicDecoderOutput, Inference BasicDecoderOutput)\n",
    "    \"\"\"\n",
    "    # TODO: Implement Function\n",
    "    dec_embeddings = tf.Variable(tf.random_uniform([target_vocab_size, decoding_embedding_size]))\n",
    "    dec_embed_input = tf.nn.embedding_lookup(dec_embeddings, dec_input)\n",
    "    \n",
    "    def make_cell(rnn_size):\n",
    "        dec_cell = tf.contrib.rnn.LSTMCell(rnn_size, initializer=tf.random_uniform_initializer(-0.1, 0.1, seed=2))\n",
    "        return dec_cell\n",
    "    \n",
    "    dec_cell = tf.contrib.rnn.MultiRNNCell([make_cell(rnn_size) for _ in range(num_layers)])\n",
    "    \n",
    "    output_layer = Dense(target_vocab_size, kernel_initializer=tf.truncated_normal_initializer(mean=0.0, stddev=0.1))\n",
    "    \n",
    "    with tf.variable_scope(\"decode\"):\n",
    "        training_output = decoding_layer_train(encoder_state, dec_cell, dec_embed_input, \n",
    "                                                 target_sequence_length, max_target_sequence_length, \n",
    "                                                 output_layer, keep_prob)\n",
    "    with tf.variable_scope(\"decode\", reuse = True):\n",
    "        start_of_sequence_id = target_vocab_to_int['<GO>']\n",
    "        end_of_sequence_id = target_vocab_to_int['<EOS>']\n",
    "        inference_output = decoding_layer_infer(encoder_state, dec_cell, dec_embeddings, start_of_sequence_id,\n",
    "                                                 end_of_sequence_id, max_target_sequence_length,\n",
    "                                                 target_vocab_size, output_layer, batch_size, keep_prob)\n",
    "    return training_output, inference_output\n",
    "\n",
    "\n",
    "\n",
    "\"\"\"\n",
    "DON'T MODIFY ANYTHING IN THIS CELL THAT IS BELOW THIS LINE\n",
    "\"\"\"\n",
    "tests.test_decoding_layer(decoding_layer)"
   ]
  },
  {
   "cell_type": "markdown",
   "metadata": {
    "deletable": true,
    "editable": true
   },
   "source": [
    "### Build the Neural Network\n",
    "Apply the functions you implemented above to:\n",
    "\n",
    "- Encode the input using your `encoding_layer(rnn_inputs, rnn_size, num_layers, keep_prob,  source_sequence_length, source_vocab_size, encoding_embedding_size)`.\n",
    "- Process target data using your `process_decoder_input(target_data, target_vocab_to_int, batch_size)` function.\n",
    "- Decode the encoded input using your `decoding_layer(dec_input, enc_state, target_sequence_length, max_target_sentence_length, rnn_size, num_layers, target_vocab_to_int, target_vocab_size, batch_size, keep_prob, dec_embedding_size)` function."
   ]
  },
  {
   "cell_type": "code",
   "execution_count": 9,
   "metadata": {
    "collapsed": false,
    "deletable": true,
    "editable": true
   },
   "outputs": [
    {
     "name": "stdout",
     "output_type": "stream",
     "text": [
      "Tests Passed\n"
     ]
    }
   ],
   "source": [
    "def seq2seq_model(input_data, target_data, keep_prob, batch_size,\n",
    "                  source_sequence_length, target_sequence_length,\n",
    "                  max_target_sentence_length,\n",
    "                  source_vocab_size, target_vocab_size,\n",
    "                  enc_embedding_size, dec_embedding_size,\n",
    "                  rnn_size, num_layers, target_vocab_to_int):\n",
    "    \"\"\"\n",
    "    Build the Sequence-to-Sequence part of the neural network\n",
    "    :param input_data: Input placeholder\n",
    "    :param target_data: Target placeholder\n",
    "    :param keep_prob: Dropout keep probability placeholder\n",
    "    :param batch_size: Batch Size\n",
    "    :param source_sequence_length: Sequence Lengths of source sequences in the batch\n",
    "    :param target_sequence_length: Sequence Lengths of target sequences in the batch\n",
    "    :param source_vocab_size: Source vocabulary size\n",
    "    :param target_vocab_size: Target vocabulary size\n",
    "    :param enc_embedding_size: Decoder embedding size\n",
    "    :param dec_embedding_size: Encoder embedding size\n",
    "    :param rnn_size: RNN Size\n",
    "    :param num_layers: Number of layers\n",
    "    :param target_vocab_to_int: Dictionary to go from the target words to an id\n",
    "    :return: Tuple of (Training BasicDecoderOutput, Inference BasicDecoderOutput)\n",
    "    \"\"\"\n",
    "    # TODO: Implement Function\n",
    "    _, enc_state = encoding_layer(input_data, rnn_size, num_layers, keep_prob, source_sequence_length, \n",
    "                                  source_vocab_size, enc_embedding_size)\n",
    "    \n",
    "    dec_input = process_decoder_input(target_data, target_vocab_to_int, batch_size)\n",
    "    \n",
    "    training_output, inference_output = decoding_layer(dec_input, enc_state, target_sequence_length, \n",
    "                                                       max_target_sentence_length, rnn_size, num_layers, \n",
    "                                                       target_vocab_to_int, target_vocab_size, batch_size, \n",
    "                                                       keep_prob, dec_embedding_size)\n",
    "    return training_output, inference_output\n",
    "\n",
    "\n",
    "\"\"\"\n",
    "DON'T MODIFY ANYTHING IN THIS CELL THAT IS BELOW THIS LINE\n",
    "\"\"\"\n",
    "tests.test_seq2seq_model(seq2seq_model)"
   ]
  },
  {
   "cell_type": "markdown",
   "metadata": {
    "deletable": true,
    "editable": true
   },
   "source": [
    "## Neural Network Training\n",
    "### Hyperparameters\n",
    "Tune the following parameters:\n",
    "\n",
    "- Set `epochs` to the number of epochs.\n",
    "- Set `batch_size` to the batch size.\n",
    "- Set `rnn_size` to the size of the RNNs.\n",
    "- Set `num_layers` to the number of layers.\n",
    "- Set `encoding_embedding_size` to the size of the embedding for the encoder.\n",
    "- Set `decoding_embedding_size` to the size of the embedding for the decoder.\n",
    "- Set `learning_rate` to the learning rate.\n",
    "- Set `keep_probability` to the Dropout keep probability\n",
    "- Set `display_step` to state how many steps between each debug output statement"
   ]
  },
  {
   "cell_type": "code",
   "execution_count": 10,
   "metadata": {
    "collapsed": true,
    "deletable": true,
    "editable": true
   },
   "outputs": [],
   "source": [
    "# Number of Epochs\n",
    "epochs = 5\n",
    "# Batch Size\n",
    "batch_size = 523\n",
    "# RNN Size\n",
    "rnn_size = 256\n",
    "# Number of Layers\n",
    "num_layers = 2\n",
    "# Embedding Size\n",
    "encoding_embedding_size = 128\n",
    "decoding_embedding_size = 128\n",
    "# Learning Rate\n",
    "learning_rate = 0.001\n",
    "# Dropout Keep Probability\n",
    "keep_probability = 0.7\n",
    "display_step = 10"
   ]
  },
  {
   "cell_type": "markdown",
   "metadata": {
    "deletable": true,
    "editable": true
   },
   "source": [
    "### Build the Graph\n",
    "Build the graph using the neural network you implemented."
   ]
  },
  {
   "cell_type": "code",
   "execution_count": 11,
   "metadata": {
    "collapsed": false,
    "deletable": true,
    "editable": true
   },
   "outputs": [],
   "source": [
    "\"\"\"\n",
    "DON'T MODIFY ANYTHING IN THIS CELL\n",
    "\"\"\"\n",
    "save_path = 'checkpoints/dev'\n",
    "(source_int_text, target_int_text), (source_vocab_to_int, target_vocab_to_int), _ = helper.load_preprocess()\n",
    "max_target_sentence_length = max([len(sentence) for sentence in source_int_text])\n",
    "\n",
    "train_graph = tf.Graph()\n",
    "with train_graph.as_default():\n",
    "    input_data, targets, lr, keep_prob, target_sequence_length, max_target_sequence_length, source_sequence_length = model_inputs()\n",
    "\n",
    "    #sequence_length = tf.placeholder_with_default(max_target_sentence_length, None, name='sequence_length')\n",
    "    input_shape = tf.shape(input_data)\n",
    "\n",
    "    train_logits, inference_logits = seq2seq_model(tf.reverse(input_data, [-1]),\n",
    "                                                   targets,\n",
    "                                                   keep_prob,\n",
    "                                                   batch_size,\n",
    "                                                   source_sequence_length,\n",
    "                                                   target_sequence_length,\n",
    "                                                   max_target_sequence_length,\n",
    "                                                   len(source_vocab_to_int),\n",
    "                                                   len(target_vocab_to_int),\n",
    "                                                   encoding_embedding_size,\n",
    "                                                   decoding_embedding_size,\n",
    "                                                   rnn_size,\n",
    "                                                   num_layers,\n",
    "                                                   target_vocab_to_int)\n",
    "\n",
    "\n",
    "    training_logits = tf.identity(train_logits.rnn_output, name='logits')\n",
    "    inference_logits = tf.identity(inference_logits.sample_id, name='predictions')\n",
    "\n",
    "    masks = tf.sequence_mask(target_sequence_length, max_target_sequence_length, dtype=tf.float32, name='masks')\n",
    "\n",
    "    with tf.name_scope(\"optimization\"):\n",
    "        # Loss function\n",
    "        cost = tf.contrib.seq2seq.sequence_loss(\n",
    "            training_logits,\n",
    "            targets,\n",
    "            masks)\n",
    "\n",
    "        # Optimizer\n",
    "        optimizer = tf.train.AdamOptimizer(lr)\n",
    "\n",
    "        # Gradient Clipping\n",
    "        gradients = optimizer.compute_gradients(cost)\n",
    "        capped_gradients = [(tf.clip_by_value(grad, -1., 1.), var) for grad, var in gradients if grad is not None]\n",
    "        train_op = optimizer.apply_gradients(capped_gradients)\n"
   ]
  },
  {
   "cell_type": "markdown",
   "metadata": {
    "deletable": true,
    "editable": true
   },
   "source": [
    "Batch and pad the source and target sequences"
   ]
  },
  {
   "cell_type": "code",
   "execution_count": 12,
   "metadata": {
    "collapsed": true,
    "deletable": true,
    "editable": true
   },
   "outputs": [],
   "source": [
    "\"\"\"\n",
    "DON'T MODIFY ANYTHING IN THIS CELL\n",
    "\"\"\"\n",
    "def pad_sentence_batch(sentence_batch, pad_int):\n",
    "    \"\"\"Pad sentences with <PAD> so that each sentence of a batch has the same length\"\"\"\n",
    "    max_sentence = max([len(sentence) for sentence in sentence_batch])\n",
    "    return [sentence + [pad_int] * (max_sentence - len(sentence)) for sentence in sentence_batch]\n",
    "\n",
    "\n",
    "def get_batches(sources, targets, batch_size, source_pad_int, target_pad_int):\n",
    "    \"\"\"Batch targets, sources, and the lengths of their sentences together\"\"\"\n",
    "    for batch_i in range(0, len(sources)//batch_size):\n",
    "        start_i = batch_i * batch_size\n",
    "\n",
    "        # Slice the right amount for the batch\n",
    "        sources_batch = sources[start_i:start_i + batch_size]\n",
    "        targets_batch = targets[start_i:start_i + batch_size]\n",
    "\n",
    "        # Pad\n",
    "        pad_sources_batch = np.array(pad_sentence_batch(sources_batch, source_pad_int))\n",
    "        pad_targets_batch = np.array(pad_sentence_batch(targets_batch, target_pad_int))\n",
    "\n",
    "        # Need the lengths for the _lengths parameters\n",
    "        pad_targets_lengths = []\n",
    "        for target in pad_targets_batch:\n",
    "            pad_targets_lengths.append(len(target))\n",
    "\n",
    "        pad_source_lengths = []\n",
    "        for source in pad_sources_batch:\n",
    "            pad_source_lengths.append(len(source))\n",
    "\n",
    "        yield pad_sources_batch, pad_targets_batch, pad_source_lengths, pad_targets_lengths\n"
   ]
  },
  {
   "cell_type": "markdown",
   "metadata": {
    "deletable": true,
    "editable": true
   },
   "source": [
    "### Train\n",
    "Train the neural network on the preprocessed data. If you have a hard time getting a good loss, check the forms to see if anyone is having the same problem."
   ]
  },
  {
   "cell_type": "code",
   "execution_count": 13,
   "metadata": {
    "collapsed": false,
    "deletable": true,
    "editable": true,
    "scrolled": true
   },
   "outputs": [
    {
     "name": "stdout",
     "output_type": "stream",
     "text": [
      "Epoch   0 Batch   10/263 - Train Accuracy: 0.3125, Validation Accuracy: 0.3780, Loss: 3.5486\n",
      "Epoch   0 Batch   20/263 - Train Accuracy: 0.3812, Validation Accuracy: 0.4314, Loss: 2.9024\n",
      "Epoch   0 Batch   30/263 - Train Accuracy: 0.4196, Validation Accuracy: 0.4479, Loss: 2.5257\n",
      "Epoch   0 Batch   40/263 - Train Accuracy: 0.4329, Validation Accuracy: 0.4591, Loss: 2.3412\n",
      "Epoch   0 Batch   50/263 - Train Accuracy: 0.4579, Validation Accuracy: 0.4903, Loss: 2.1929\n",
      "Epoch   0 Batch   60/263 - Train Accuracy: 0.4885, Validation Accuracy: 0.4960, Loss: 1.8945\n",
      "Epoch   0 Batch   70/263 - Train Accuracy: 0.4590, Validation Accuracy: 0.4861, Loss: 1.8287\n",
      "Epoch   0 Batch   80/263 - Train Accuracy: 0.4823, Validation Accuracy: 0.4936, Loss: 1.6569\n",
      "Epoch   0 Batch   90/263 - Train Accuracy: 0.4548, Validation Accuracy: 0.4876, Loss: 1.6230\n",
      "Epoch   0 Batch  100/263 - Train Accuracy: 0.5047, Validation Accuracy: 0.5299, Loss: 1.5044\n",
      "Epoch   0 Batch  110/263 - Train Accuracy: 0.4943, Validation Accuracy: 0.5000, Loss: 1.3732\n",
      "Epoch   0 Batch  120/263 - Train Accuracy: 0.4793, Validation Accuracy: 0.5069, Loss: 1.3640\n",
      "Epoch   0 Batch  130/263 - Train Accuracy: 0.5010, Validation Accuracy: 0.5232, Loss: 1.3158\n",
      "Epoch   0 Batch  140/263 - Train Accuracy: 0.5099, Validation Accuracy: 0.5294, Loss: 1.2459\n",
      "Epoch   0 Batch  150/263 - Train Accuracy: 0.5048, Validation Accuracy: 0.5381, Loss: 1.1912\n",
      "Epoch   0 Batch  160/263 - Train Accuracy: 0.5241, Validation Accuracy: 0.5321, Loss: 1.1658\n",
      "Epoch   0 Batch  170/263 - Train Accuracy: 0.5300, Validation Accuracy: 0.5483, Loss: 1.0823\n",
      "Epoch   0 Batch  180/263 - Train Accuracy: 0.5091, Validation Accuracy: 0.5537, Loss: 1.0865\n",
      "Epoch   0 Batch  190/263 - Train Accuracy: 0.5330, Validation Accuracy: 0.5516, Loss: 1.0005\n",
      "Epoch   0 Batch  200/263 - Train Accuracy: 0.5108, Validation Accuracy: 0.5576, Loss: 0.9891\n",
      "Epoch   0 Batch  210/263 - Train Accuracy: 0.5287, Validation Accuracy: 0.5586, Loss: 0.9290\n",
      "Epoch   0 Batch  220/263 - Train Accuracy: 0.5487, Validation Accuracy: 0.5584, Loss: 0.8594\n",
      "Epoch   0 Batch  230/263 - Train Accuracy: 0.5744, Validation Accuracy: 0.5827, Loss: 0.8358\n",
      "Epoch   0 Batch  240/263 - Train Accuracy: 0.5618, Validation Accuracy: 0.5847, Loss: 0.8568\n",
      "Epoch   0 Batch  250/263 - Train Accuracy: 0.5900, Validation Accuracy: 0.5853, Loss: 0.8016\n",
      "Epoch   0 Batch  260/263 - Train Accuracy: 0.5590, Validation Accuracy: 0.5815, Loss: 0.7881\n",
      "Epoch   1 Batch   10/263 - Train Accuracy: 0.5772, Validation Accuracy: 0.5999, Loss: 0.7691\n",
      "Epoch   1 Batch   20/263 - Train Accuracy: 0.6001, Validation Accuracy: 0.6019, Loss: 0.7561\n",
      "Epoch   1 Batch   30/263 - Train Accuracy: 0.6070, Validation Accuracy: 0.5966, Loss: 0.6917\n",
      "Epoch   1 Batch   40/263 - Train Accuracy: 0.6122, Validation Accuracy: 0.6232, Loss: 0.6983\n",
      "Epoch   1 Batch   50/263 - Train Accuracy: 0.6004, Validation Accuracy: 0.6161, Loss: 0.6774\n",
      "Epoch   1 Batch   60/263 - Train Accuracy: 0.6287, Validation Accuracy: 0.6140, Loss: 0.6120\n",
      "Epoch   1 Batch   70/263 - Train Accuracy: 0.6317, Validation Accuracy: 0.6242, Loss: 0.6552\n",
      "Epoch   1 Batch   80/263 - Train Accuracy: 0.6498, Validation Accuracy: 0.6319, Loss: 0.5999\n",
      "Epoch   1 Batch   90/263 - Train Accuracy: 0.6186, Validation Accuracy: 0.6209, Loss: 0.6026\n",
      "Epoch   1 Batch  100/263 - Train Accuracy: 0.6214, Validation Accuracy: 0.6320, Loss: 0.5830\n",
      "Epoch   1 Batch  110/263 - Train Accuracy: 0.6381, Validation Accuracy: 0.6203, Loss: 0.5652\n",
      "Epoch   1 Batch  120/263 - Train Accuracy: 0.6318, Validation Accuracy: 0.6302, Loss: 0.5575\n",
      "Epoch   1 Batch  130/263 - Train Accuracy: 0.6416, Validation Accuracy: 0.6385, Loss: 0.5501\n",
      "Epoch   1 Batch  140/263 - Train Accuracy: 0.6486, Validation Accuracy: 0.6431, Loss: 0.5381\n",
      "Epoch   1 Batch  150/263 - Train Accuracy: 0.6389, Validation Accuracy: 0.6486, Loss: 0.5267\n",
      "Epoch   1 Batch  160/263 - Train Accuracy: 0.6648, Validation Accuracy: 0.6511, Loss: 0.5175\n",
      "Epoch   1 Batch  170/263 - Train Accuracy: 0.6464, Validation Accuracy: 0.6587, Loss: 0.5040\n",
      "Epoch   1 Batch  180/263 - Train Accuracy: 0.6415, Validation Accuracy: 0.6718, Loss: 0.5318\n",
      "Epoch   1 Batch  190/263 - Train Accuracy: 0.6746, Validation Accuracy: 0.6771, Loss: 0.4962\n",
      "Epoch   1 Batch  200/263 - Train Accuracy: 0.6560, Validation Accuracy: 0.6803, Loss: 0.5142\n",
      "Epoch   1 Batch  210/263 - Train Accuracy: 0.6893, Validation Accuracy: 0.6956, Loss: 0.4838\n",
      "Epoch   1 Batch  220/263 - Train Accuracy: 0.7003, Validation Accuracy: 0.7009, Loss: 0.4488\n",
      "Epoch   1 Batch  230/263 - Train Accuracy: 0.7085, Validation Accuracy: 0.7098, Loss: 0.4392\n",
      "Epoch   1 Batch  240/263 - Train Accuracy: 0.6820, Validation Accuracy: 0.7165, Loss: 0.4659\n",
      "Epoch   1 Batch  250/263 - Train Accuracy: 0.7080, Validation Accuracy: 0.7088, Loss: 0.4343\n",
      "Epoch   1 Batch  260/263 - Train Accuracy: 0.7226, Validation Accuracy: 0.7366, Loss: 0.4285\n",
      "Epoch   2 Batch   10/263 - Train Accuracy: 0.7171, Validation Accuracy: 0.7362, Loss: 0.4194\n",
      "Epoch   2 Batch   20/263 - Train Accuracy: 0.7274, Validation Accuracy: 0.7356, Loss: 0.4120\n",
      "Epoch   2 Batch   30/263 - Train Accuracy: 0.7524, Validation Accuracy: 0.7492, Loss: 0.3783\n",
      "Epoch   2 Batch   40/263 - Train Accuracy: 0.7423, Validation Accuracy: 0.7521, Loss: 0.3756\n",
      "Epoch   2 Batch   50/263 - Train Accuracy: 0.7523, Validation Accuracy: 0.7588, Loss: 0.3596\n",
      "Epoch   2 Batch   60/263 - Train Accuracy: 0.7795, Validation Accuracy: 0.7639, Loss: 0.3280\n",
      "Epoch   2 Batch   70/263 - Train Accuracy: 0.7726, Validation Accuracy: 0.7632, Loss: 0.3538\n",
      "Epoch   2 Batch   80/263 - Train Accuracy: 0.7981, Validation Accuracy: 0.7854, Loss: 0.3150\n",
      "Epoch   2 Batch   90/263 - Train Accuracy: 0.7967, Validation Accuracy: 0.7879, Loss: 0.3048\n",
      "Epoch   2 Batch  100/263 - Train Accuracy: 0.7663, Validation Accuracy: 0.7951, Loss: 0.3007\n",
      "Epoch   2 Batch  110/263 - Train Accuracy: 0.7908, Validation Accuracy: 0.8063, Loss: 0.2847\n",
      "Epoch   2 Batch  120/263 - Train Accuracy: 0.8052, Validation Accuracy: 0.8098, Loss: 0.2738\n",
      "Epoch   2 Batch  130/263 - Train Accuracy: 0.8135, Validation Accuracy: 0.8092, Loss: 0.2702\n",
      "Epoch   2 Batch  140/263 - Train Accuracy: 0.8164, Validation Accuracy: 0.8185, Loss: 0.2590\n",
      "Epoch   2 Batch  150/263 - Train Accuracy: 0.8245, Validation Accuracy: 0.8326, Loss: 0.2500\n",
      "Epoch   2 Batch  160/263 - Train Accuracy: 0.8527, Validation Accuracy: 0.8325, Loss: 0.2540\n",
      "Epoch   2 Batch  170/263 - Train Accuracy: 0.8452, Validation Accuracy: 0.8345, Loss: 0.2253\n",
      "Epoch   2 Batch  180/263 - Train Accuracy: 0.8322, Validation Accuracy: 0.8488, Loss: 0.2331\n",
      "Epoch   2 Batch  190/263 - Train Accuracy: 0.8318, Validation Accuracy: 0.8294, Loss: 0.2316\n",
      "Epoch   2 Batch  200/263 - Train Accuracy: 0.8265, Validation Accuracy: 0.8372, Loss: 0.2347\n",
      "Epoch   2 Batch  210/263 - Train Accuracy: 0.8557, Validation Accuracy: 0.8561, Loss: 0.2123\n",
      "Epoch   2 Batch  220/263 - Train Accuracy: 0.8529, Validation Accuracy: 0.8563, Loss: 0.1908\n",
      "Epoch   2 Batch  230/263 - Train Accuracy: 0.8796, Validation Accuracy: 0.8551, Loss: 0.1803\n",
      "Epoch   2 Batch  240/263 - Train Accuracy: 0.8424, Validation Accuracy: 0.8564, Loss: 0.1872\n",
      "Epoch   2 Batch  250/263 - Train Accuracy: 0.8525, Validation Accuracy: 0.8523, Loss: 0.1783\n",
      "Epoch   2 Batch  260/263 - Train Accuracy: 0.8765, Validation Accuracy: 0.8788, Loss: 0.1680\n",
      "Epoch   3 Batch   10/263 - Train Accuracy: 0.8826, Validation Accuracy: 0.8675, Loss: 0.1638\n",
      "Epoch   3 Batch   20/263 - Train Accuracy: 0.8648, Validation Accuracy: 0.8712, Loss: 0.1663\n",
      "Epoch   3 Batch   30/263 - Train Accuracy: 0.8895, Validation Accuracy: 0.8755, Loss: 0.1476\n",
      "Epoch   3 Batch   40/263 - Train Accuracy: 0.8836, Validation Accuracy: 0.8774, Loss: 0.1455\n",
      "Epoch   3 Batch   50/263 - Train Accuracy: 0.8798, Validation Accuracy: 0.8821, Loss: 0.1356\n",
      "Epoch   3 Batch   60/263 - Train Accuracy: 0.8954, Validation Accuracy: 0.8856, Loss: 0.1230\n",
      "Epoch   3 Batch   70/263 - Train Accuracy: 0.8901, Validation Accuracy: 0.8807, Loss: 0.1424\n",
      "Epoch   3 Batch   80/263 - Train Accuracy: 0.8993, Validation Accuracy: 0.8835, Loss: 0.1175\n",
      "Epoch   3 Batch   90/263 - Train Accuracy: 0.9102, Validation Accuracy: 0.8917, Loss: 0.1108\n",
      "Epoch   3 Batch  100/263 - Train Accuracy: 0.8819, Validation Accuracy: 0.8926, Loss: 0.1096\n",
      "Epoch   3 Batch  110/263 - Train Accuracy: 0.8881, Validation Accuracy: 0.8909, Loss: 0.1128\n",
      "Epoch   3 Batch  120/263 - Train Accuracy: 0.8997, Validation Accuracy: 0.8966, Loss: 0.1007\n",
      "Epoch   3 Batch  130/263 - Train Accuracy: 0.8976, Validation Accuracy: 0.8817, Loss: 0.1005\n",
      "Epoch   3 Batch  140/263 - Train Accuracy: 0.9070, Validation Accuracy: 0.8980, Loss: 0.1014\n",
      "Epoch   3 Batch  150/263 - Train Accuracy: 0.9075, Validation Accuracy: 0.9060, Loss: 0.0952\n",
      "Epoch   3 Batch  160/263 - Train Accuracy: 0.9234, Validation Accuracy: 0.9080, Loss: 0.0983\n",
      "Epoch   3 Batch  170/263 - Train Accuracy: 0.9191, Validation Accuracy: 0.9052, Loss: 0.0896\n",
      "Epoch   3 Batch  180/263 - Train Accuracy: 0.9005, Validation Accuracy: 0.9014, Loss: 0.0976\n",
      "Epoch   3 Batch  190/263 - Train Accuracy: 0.8927, Validation Accuracy: 0.9067, Loss: 0.0919\n",
      "Epoch   3 Batch  200/263 - Train Accuracy: 0.9033, Validation Accuracy: 0.9051, Loss: 0.0986\n",
      "Epoch   3 Batch  210/263 - Train Accuracy: 0.9082, Validation Accuracy: 0.9070, Loss: 0.0899\n",
      "Epoch   3 Batch  220/263 - Train Accuracy: 0.8947, Validation Accuracy: 0.9080, Loss: 0.0869\n",
      "Epoch   3 Batch  230/263 - Train Accuracy: 0.9279, Validation Accuracy: 0.9058, Loss: 0.0818\n",
      "Epoch   3 Batch  240/263 - Train Accuracy: 0.8944, Validation Accuracy: 0.9124, Loss: 0.0856\n",
      "Epoch   3 Batch  250/263 - Train Accuracy: 0.9032, Validation Accuracy: 0.9170, Loss: 0.0837\n",
      "Epoch   3 Batch  260/263 - Train Accuracy: 0.9208, Validation Accuracy: 0.9206, Loss: 0.0787\n",
      "Epoch   4 Batch   10/263 - Train Accuracy: 0.9173, Validation Accuracy: 0.9141, Loss: 0.0769\n",
      "Epoch   4 Batch   20/263 - Train Accuracy: 0.9016, Validation Accuracy: 0.9174, Loss: 0.0789\n",
      "Epoch   4 Batch   30/263 - Train Accuracy: 0.9298, Validation Accuracy: 0.9182, Loss: 0.0759\n",
      "Epoch   4 Batch   40/263 - Train Accuracy: 0.9201, Validation Accuracy: 0.9146, Loss: 0.0769\n",
      "Epoch   4 Batch   50/263 - Train Accuracy: 0.9238, Validation Accuracy: 0.9213, Loss: 0.0722\n",
      "Epoch   4 Batch   60/263 - Train Accuracy: 0.9260, Validation Accuracy: 0.9160, Loss: 0.0660\n",
      "Epoch   4 Batch   70/263 - Train Accuracy: 0.9188, Validation Accuracy: 0.9152, Loss: 0.0822\n",
      "Epoch   4 Batch   80/263 - Train Accuracy: 0.9323, Validation Accuracy: 0.9163, Loss: 0.0650\n",
      "Epoch   4 Batch   90/263 - Train Accuracy: 0.9405, Validation Accuracy: 0.9309, Loss: 0.0620\n",
      "Epoch   4 Batch  100/263 - Train Accuracy: 0.9127, Validation Accuracy: 0.9232, Loss: 0.0642\n",
      "Epoch   4 Batch  110/263 - Train Accuracy: 0.9258, Validation Accuracy: 0.9169, Loss: 0.0678\n",
      "Epoch   4 Batch  120/263 - Train Accuracy: 0.9234, Validation Accuracy: 0.9151, Loss: 0.0533\n",
      "Epoch   4 Batch  130/263 - Train Accuracy: 0.9237, Validation Accuracy: 0.9231, Loss: 0.0573\n",
      "Epoch   4 Batch  140/263 - Train Accuracy: 0.9385, Validation Accuracy: 0.9249, Loss: 0.0570\n",
      "Epoch   4 Batch  150/263 - Train Accuracy: 0.9369, Validation Accuracy: 0.9286, Loss: 0.0557\n",
      "Epoch   4 Batch  160/263 - Train Accuracy: 0.9477, Validation Accuracy: 0.9296, Loss: 0.0565\n",
      "Epoch   4 Batch  170/263 - Train Accuracy: 0.9420, Validation Accuracy: 0.9266, Loss: 0.0514\n",
      "Epoch   4 Batch  180/263 - Train Accuracy: 0.9297, Validation Accuracy: 0.9386, Loss: 0.0599\n",
      "Epoch   4 Batch  190/263 - Train Accuracy: 0.9130, Validation Accuracy: 0.9275, Loss: 0.0599\n",
      "Epoch   4 Batch  200/263 - Train Accuracy: 0.9284, Validation Accuracy: 0.9344, Loss: 0.0633\n",
      "Epoch   4 Batch  210/263 - Train Accuracy: 0.9295, Validation Accuracy: 0.9389, Loss: 0.0565\n",
      "Epoch   4 Batch  220/263 - Train Accuracy: 0.9181, Validation Accuracy: 0.9299, Loss: 0.0540\n",
      "Epoch   4 Batch  230/263 - Train Accuracy: 0.9589, Validation Accuracy: 0.9304, Loss: 0.0505\n",
      "Epoch   4 Batch  240/263 - Train Accuracy: 0.9204, Validation Accuracy: 0.9338, Loss: 0.0558\n",
      "Epoch   4 Batch  250/263 - Train Accuracy: 0.9231, Validation Accuracy: 0.9339, Loss: 0.0557\n",
      "Epoch   4 Batch  260/263 - Train Accuracy: 0.9384, Validation Accuracy: 0.9479, Loss: 0.0497\n",
      "Model Trained and Saved\n"
     ]
    }
   ],
   "source": [
    "\"\"\"\n",
    "DON'T MODIFY ANYTHING IN THIS CELL\n",
    "\"\"\"\n",
    "def get_accuracy(target, logits):\n",
    "    \"\"\"\n",
    "    Calculate accuracy\n",
    "    \"\"\"\n",
    "    max_seq = max(target.shape[1], logits.shape[1])\n",
    "    if max_seq - target.shape[1]:\n",
    "        target = np.pad(\n",
    "            target,\n",
    "            [(0,0),(0,max_seq - target.shape[1])],\n",
    "            'constant')\n",
    "    if max_seq - logits.shape[1]:\n",
    "        logits = np.pad(\n",
    "            logits,\n",
    "            [(0,0),(0,max_seq - logits.shape[1])],\n",
    "            'constant')\n",
    "\n",
    "    return np.mean(np.equal(target, logits))\n",
    "\n",
    "# Split data to training and validation sets\n",
    "train_source = source_int_text[batch_size:]\n",
    "train_target = target_int_text[batch_size:]\n",
    "valid_source = source_int_text[:batch_size]\n",
    "valid_target = target_int_text[:batch_size]\n",
    "(valid_sources_batch, valid_targets_batch, valid_sources_lengths, valid_targets_lengths ) = next(get_batches(valid_source,\n",
    "                                                                                                             valid_target,\n",
    "                                                                                                             batch_size,\n",
    "                                                                                                             source_vocab_to_int['<PAD>'],\n",
    "                                                                                                             target_vocab_to_int['<PAD>']))                                                                                                  \n",
    "with tf.Session(graph=train_graph) as sess:\n",
    "    sess.run(tf.global_variables_initializer())\n",
    "\n",
    "    for epoch_i in range(epochs):\n",
    "        for batch_i, (source_batch, target_batch, sources_lengths, targets_lengths) in enumerate(\n",
    "                get_batches(train_source, train_target, batch_size,\n",
    "                            source_vocab_to_int['<PAD>'],\n",
    "                            target_vocab_to_int['<PAD>'])):\n",
    "\n",
    "            _, loss = sess.run(\n",
    "                [train_op, cost],\n",
    "                {input_data: source_batch,\n",
    "                 targets: target_batch,\n",
    "                 lr: learning_rate,\n",
    "                 target_sequence_length: targets_lengths,\n",
    "                 source_sequence_length: sources_lengths,\n",
    "                 keep_prob: keep_probability})\n",
    "\n",
    "\n",
    "            if batch_i % display_step == 0 and batch_i > 0:\n",
    "\n",
    "\n",
    "                batch_train_logits = sess.run(\n",
    "                    inference_logits,\n",
    "                    {input_data: source_batch,\n",
    "                     source_sequence_length: sources_lengths,\n",
    "                     target_sequence_length: targets_lengths,\n",
    "                     keep_prob: 1.0})\n",
    "\n",
    "\n",
    "                batch_valid_logits = sess.run(\n",
    "                    inference_logits,\n",
    "                    {input_data: valid_sources_batch,\n",
    "                     source_sequence_length: valid_sources_lengths,\n",
    "                     target_sequence_length: valid_targets_lengths,\n",
    "                     keep_prob: 1.0})\n",
    "\n",
    "                train_acc = get_accuracy(target_batch, batch_train_logits)\n",
    "\n",
    "                valid_acc = get_accuracy(valid_targets_batch, batch_valid_logits)\n",
    "\n",
    "                print('Epoch {:>3} Batch {:>4}/{} - Train Accuracy: {:>6.4f}, Validation Accuracy: {:>6.4f}, Loss: {:>6.4f}'\n",
    "                      .format(epoch_i, batch_i, len(source_int_text) // batch_size, train_acc, valid_acc, loss))\n",
    "\n",
    "    # Save Model\n",
    "    saver = tf.train.Saver()\n",
    "    saver.save(sess, save_path)\n",
    "    print('Model Trained and Saved')"
   ]
  },
  {
   "cell_type": "markdown",
   "metadata": {
    "deletable": true,
    "editable": true
   },
   "source": [
    "### Save Parameters\n",
    "Save the `batch_size` and `save_path` parameters for inference."
   ]
  },
  {
   "cell_type": "code",
   "execution_count": 14,
   "metadata": {
    "collapsed": true,
    "deletable": true,
    "editable": true
   },
   "outputs": [],
   "source": [
    "\"\"\"\n",
    "DON'T MODIFY ANYTHING IN THIS CELL\n",
    "\"\"\"\n",
    "# Save parameters for checkpoint\n",
    "helper.save_params(save_path)"
   ]
  },
  {
   "cell_type": "markdown",
   "metadata": {
    "deletable": true,
    "editable": true
   },
   "source": [
    "# Checkpoint"
   ]
  },
  {
   "cell_type": "code",
   "execution_count": 15,
   "metadata": {
    "collapsed": true,
    "deletable": true,
    "editable": true
   },
   "outputs": [],
   "source": [
    "\"\"\"\n",
    "DON'T MODIFY ANYTHING IN THIS CELL\n",
    "\"\"\"\n",
    "import tensorflow as tf\n",
    "import numpy as np\n",
    "import helper\n",
    "import problem_unittests as tests\n",
    "\n",
    "_, (source_vocab_to_int, target_vocab_to_int), (source_int_to_vocab, target_int_to_vocab) = helper.load_preprocess()\n",
    "load_path = helper.load_params()"
   ]
  },
  {
   "cell_type": "markdown",
   "metadata": {
    "deletable": true,
    "editable": true
   },
   "source": [
    "## Sentence to Sequence\n",
    "To feed a sentence into the model for translation, you first need to preprocess it.  Implement the function `sentence_to_seq()` to preprocess new sentences.\n",
    "\n",
    "- Convert the sentence to lowercase\n",
    "- Convert words into ids using `vocab_to_int`\n",
    " - Convert words not in the vocabulary, to the `<UNK>` word id."
   ]
  },
  {
   "cell_type": "code",
   "execution_count": 16,
   "metadata": {
    "collapsed": false,
    "deletable": true,
    "editable": true
   },
   "outputs": [
    {
     "name": "stdout",
     "output_type": "stream",
     "text": [
      "Tests Passed\n"
     ]
    }
   ],
   "source": [
    "def sentence_to_seq(sentence, vocab_to_int):\n",
    "    \"\"\"\n",
    "    Convert a sentence to a sequence of ids\n",
    "    :param sentence: String\n",
    "    :param vocab_to_int: Dictionary to go from the words to an id\n",
    "    :return: List of word ids\n",
    "    \"\"\"\n",
    "    # TODO: Implement Function\n",
    "    seq = [vocab_to_int.get(word, vocab_to_int['<UNK>']) for word in sentence.lower().split()]\n",
    "    return seq\n",
    "\n",
    "\n",
    "\"\"\"\n",
    "DON'T MODIFY ANYTHING IN THIS CELL THAT IS BELOW THIS LINE\n",
    "\"\"\"\n",
    "tests.test_sentence_to_seq(sentence_to_seq)"
   ]
  },
  {
   "cell_type": "markdown",
   "metadata": {
    "deletable": true,
    "editable": true
   },
   "source": [
    "## Translate\n",
    "This will translate `translate_sentence` from English to French."
   ]
  },
  {
   "cell_type": "code",
   "execution_count": 22,
   "metadata": {
    "collapsed": false,
    "deletable": true,
    "editable": true
   },
   "outputs": [
    {
     "name": "stdout",
     "output_type": "stream",
     "text": [
      "INFO:tensorflow:Restoring parameters from checkpoints/dev\n",
      "Input\n",
      "  Word Ids:      [90, 138, 128, 198, 53, 13, 227]\n",
      "  English Words: ['he', 'saw', 'a', 'old', 'yellow', 'truck', '.']\n",
      "\n",
      "Prediction\n",
      "  Word Ids:      [151, 69, 271, 343, 31, 202, 194, 1]\n",
      "  French Words: il est au mois d' août . <EOS>\n"
     ]
    }
   ],
   "source": [
    "translate_sentence = 'he saw a old yellow truck .'\n",
    "\n",
    "\n",
    "\"\"\"\n",
    "DON'T MODIFY ANYTHING IN THIS CELL\n",
    "\"\"\"\n",
    "translate_sentence = sentence_to_seq(translate_sentence, source_vocab_to_int)\n",
    "\n",
    "loaded_graph = tf.Graph()\n",
    "with tf.Session(graph=loaded_graph) as sess:\n",
    "    # Load saved model\n",
    "    loader = tf.train.import_meta_graph(load_path + '.meta')\n",
    "    loader.restore(sess, load_path)\n",
    "\n",
    "    input_data = loaded_graph.get_tensor_by_name('input:0')\n",
    "    logits = loaded_graph.get_tensor_by_name('predictions:0')\n",
    "    target_sequence_length = loaded_graph.get_tensor_by_name('target_sequence_length:0')\n",
    "    source_sequence_length = loaded_graph.get_tensor_by_name('source_sequence_length:0')\n",
    "    keep_prob = loaded_graph.get_tensor_by_name('keep_prob:0')\n",
    "\n",
    "    translate_logits = sess.run(logits, {input_data: [translate_sentence]*batch_size,\n",
    "                                         target_sequence_length: [len(translate_sentence)*2]*batch_size,\n",
    "                                         source_sequence_length: [len(translate_sentence)]*batch_size,\n",
    "                                         keep_prob: 1.0})[0]\n",
    "\n",
    "print('Input')\n",
    "print('  Word Ids:      {}'.format([i for i in translate_sentence]))\n",
    "print('  English Words: {}'.format([source_int_to_vocab[i] for i in translate_sentence]))\n",
    "\n",
    "print('\\nPrediction')\n",
    "print('  Word Ids:      {}'.format([i for i in translate_logits]))\n",
    "print('  French Words: {}'.format(\" \".join([target_int_to_vocab[i] for i in translate_logits])))\n"
   ]
  },
  {
   "cell_type": "markdown",
   "metadata": {
    "deletable": true,
    "editable": true
   },
   "source": [
    "## Imperfect Translation\n",
    "You might notice that some sentences translate better than others.  Since the dataset you're using only has a vocabulary of 227 English words of the thousands that you use, you're only going to see good results using these words.  For this project, you don't need a perfect translation. However, if you want to create a better translation model, you'll need better data.\n",
    "\n",
    "You can train on the [WMT10 French-English corpus](http://www.statmt.org/wmt10/training-giga-fren.tar).  This dataset has more vocabulary and richer in topics discussed.  However, this will take you days to train, so make sure you've a GPU and the neural network is performing well on dataset we provided.  Just make sure you play with the WMT10 corpus after you've submitted this project.\n",
    "## Submitting This Project\n",
    "When submitting this project, make sure to run all the cells before saving the notebook. Save the notebook file as \"dlnd_language_translation.ipynb\" and save it as a HTML file under \"File\" -> \"Download as\". Include the \"helper.py\" and \"problem_unittests.py\" files in your submission."
   ]
  }
 ],
 "metadata": {
  "anaconda-cloud": {},
  "kernelspec": {
   "display_name": "Python 3",
   "language": "python",
   "name": "python3"
  },
  "language_info": {
   "codemirror_mode": {
    "name": "ipython",
    "version": 3
   },
   "file_extension": ".py",
   "mimetype": "text/x-python",
   "name": "python",
   "nbconvert_exporter": "python",
   "pygments_lexer": "ipython3",
   "version": "3.5.2"
  },
  "widgets": {
   "state": {},
   "version": "1.1.2"
  }
 },
 "nbformat": 4,
 "nbformat_minor": 1
}
